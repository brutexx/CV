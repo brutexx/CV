{
  "nbformat": 4,
  "nbformat_minor": 0,
  "metadata": {
    "colab": {
      "provenance": [],
      "authorship_tag": "ABX9TyMDmRHtazPw/TRA2ume3OLe",
      "include_colab_link": true
    },
    "kernelspec": {
      "name": "python3",
      "display_name": "Python 3"
    },
    "language_info": {
      "name": "python"
    }
  },
  "cells": [
    {
      "cell_type": "markdown",
      "metadata": {
        "id": "view-in-github",
        "colab_type": "text"
      },
      "source": [
        "<a href=\"https://colab.research.google.com/github/brutexx/CV/blob/main/Colab-Paradigmas.ipynb\" target=\"_parent\"><img src=\"https://colab.research.google.com/assets/colab-badge.svg\" alt=\"Open In Colab\"/></a>"
      ]
    },
    {
      "cell_type": "markdown",
      "source": [
        "## 1. Para cada questão abaixo, faça uma função que:"
      ],
      "metadata": {
        "id": "YR1pyhKj1aSZ"
      }
    },
    {
      "cell_type": "markdown",
      "source": [
        "#### a) \tRetorne uma lista contendo os números inteiros de 1 a n. [1, 2, 3, ... , n]"
      ],
      "metadata": {
        "id": "8FgAATcI4OzE"
      }
    },
    {
      "cell_type": "code",
      "execution_count": 12,
      "metadata": {
        "id": "53q_iZLh0bUm"
      },
      "outputs": [],
      "source": [
        "def inteiros_1an(n): return list(range(1, n+1))\n",
        "inteiros_1an(8)"
      ]
    },
    {
      "cell_type": "markdown",
      "source": [
        "#### b)\tRetorne uma lista invertida dos números inteiros de 1 a n. [n, ..., 3, 2, 1]"
      ],
      "metadata": {
        "id": "_H2eMXVf1tqI"
      }
    },
    {
      "cell_type": "code",
      "source": [
        "def inteiros_na1(n): return list(range(n, 0, -1))\n",
        "inteiros_na1(8)"
      ],
      "metadata": {
        "id": "9RAk8KFP1O38"
      },
      "execution_count": 14,
      "outputs": []
    },
    {
      "cell_type": "markdown",
      "source": [
        "#### c) \tRetorne uma lista contendo o dobro dos números inteiros de 1 a n. [2, 4, 6, ... , 2n]"
      ],
      "metadata": {
        "id": "KFTlKRWe2gzY"
      }
    },
    {
      "cell_type": "code",
      "source": [
        "def dobro_inteiros_1an(n): return list(range(2, (n+1)*2, 2))\n",
        "dobro_inteiros_1an(8)"
      ],
      "metadata": {
        "colab": {
          "base_uri": "https://localhost:8080/"
        },
        "id": "1EYoTYdi2jtX",
        "outputId": "b70266cc-e4d8-4dea-b3d4-eb7d23f0d09f"
      },
      "execution_count": 24,
      "outputs": [
        {
          "output_type": "execute_result",
          "data": {
            "text/plain": [
              "[2, 4, 6, 8, 10, 12, 14, 16]"
            ]
          },
          "metadata": {},
          "execution_count": 24
        }
      ]
    },
    {
      "cell_type": "markdown",
      "source": [
        "#### d) \tRetorne uma lista contendo o dobro de números inteiros de 1 a n. [1, 2, 3, ... , 2n]"
      ],
      "metadata": {
        "id": "gS7oQLaf3k0C"
      }
    },
    {
      "cell_type": "code",
      "source": [
        "def porque_voce_nao_multiplicou_por_2(n): return list(range(1, (n*2)+1))\n",
        "porque_voce_nao_multiplicou_por_2(8)"
      ],
      "metadata": {
        "colab": {
          "base_uri": "https://localhost:8080/"
        },
        "id": "DEQ3F2lw3npH",
        "outputId": "954c15a3-e9f1-4fc2-b532-47f4fc0b4867"
      },
      "execution_count": 26,
      "outputs": [
        {
          "output_type": "execute_result",
          "data": {
            "text/plain": [
              "[1, 2, 3, 4, 5, 6, 7, 8, 9, 10, 11, 12, 13, 14, 15, 16]"
            ]
          },
          "metadata": {},
          "execution_count": 26
        }
      ]
    },
    {
      "cell_type": "markdown",
      "source": [
        "#### e) \tRetorne uma lista dos números inteiros de 1 a n que são divisíveis por 3. [3, 6, 9, ... , k], onde k é o maior número divisível por 3 menor ou igual a n."
      ],
      "metadata": {
        "id": "xOG3lECX4ISx"
      }
    },
    {
      "cell_type": "code",
      "source": [
        "def divisiveis_por_3 (n): return list(range(3, n+1, 3))\n",
        "divisiveis_por_3(34)"
      ],
      "metadata": {
        "colab": {
          "base_uri": "https://localhost:8080/"
        },
        "id": "crt66ApU4Jsh",
        "outputId": "d9115ad3-b124-4795-f3a5-b5b6586196ba"
      },
      "execution_count": 30,
      "outputs": [
        {
          "output_type": "execute_result",
          "data": {
            "text/plain": [
              "[3, 6, 9, 12, 15, 18, 21, 24, 27, 30, 33]"
            ]
          },
          "metadata": {},
          "execution_count": 30
        }
      ]
    },
    {
      "cell_type": "markdown",
      "source": [
        "#### f)  \tRetorne uma lista formada pelo dobro dos números pares e o quadrado dos números ímpares de 1 a n."
      ],
      "metadata": {
        "id": "N2CLjUjq4q1V"
      }
    },
    {
      "cell_type": "code",
      "source": [],
      "metadata": {
        "id": "jc5HO3Gv4zac"
      },
      "execution_count": null,
      "outputs": []
    }
  ]
}